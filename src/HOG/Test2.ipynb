{
 "cells": [
  {
   "cell_type": "code",
   "execution_count": 1,
   "id": "82d70b81",
   "metadata": {},
   "outputs": [
    {
     "data": {
      "text/plain": [
       "['Batch10.csv - TEST.csv', 'Batch9.csv - TEST.csv', 'Batch11.csv TEST.csv']"
      ]
     },
     "execution_count": 1,
     "metadata": {},
     "output_type": "execute_result"
    }
   ],
   "source": [
    "import os\n",
    "\n",
    "folder_pwd = os.getcwd()\n",
    "os.chdir('..')\n",
    "os.chdir('../resources')\n",
    "resources_path = os.getcwd()\n",
    "os.chdir(folder_pwd)\n",
    "\n",
    "image_folder = \"/test/Images\"\n",
    "csv_folder = '/test/c'\n",
    "\n",
    "files = os.listdir(resources_path+csv_folder)\n",
    "csv_file = []\n",
    "for f in files:\n",
    "    csv_file.append(f)\n",
    "\n",
    "csv_file"
   ]
  },
  {
   "cell_type": "code",
   "execution_count": 2,
   "id": "f9c64cb3",
   "metadata": {},
   "outputs": [
    {
     "name": "stdout",
     "output_type": "stream",
     "text": [
      "CPU times: user 696 ms, sys: 200 ms, total: 896 ms\n",
      "Wall time: 1.27 s\n"
     ]
    }
   ],
   "source": [
    "%%time\n",
    "from csv import reader\n",
    "import pandas as pd\n",
    "import numpy as np\n",
    "\n",
    "def read_csv(file_name):\n",
    "    return pd.read_csv(resources_path+csv_folder+'/'+file_name, names=['type','from_x','from_y','width', 'height', 'name', 'full_width', 'full_height'])\n",
    "\n",
    "df = pd.DataFrame()\n",
    "for f in csv_file:\n",
    "    df = df.append(read_csv(f)).reset_index(drop=True)"
   ]
  },
  {
   "cell_type": "code",
   "execution_count": 3,
   "id": "ed991228",
   "metadata": {},
   "outputs": [
    {
     "data": {
      "text/plain": [
       "(370,)"
      ]
     },
     "execution_count": 3,
     "metadata": {},
     "output_type": "execute_result"
    }
   ],
   "source": [
    "images_to_check =df['name'].unique()\n",
    "images_to_check.shape"
   ]
  },
  {
   "cell_type": "code",
   "execution_count": 4,
   "id": "7c738cb8",
   "metadata": {},
   "outputs": [
    {
     "name": "stderr",
     "output_type": "stream",
     "text": [
      "/Users/codingC/opt/anaconda3/lib/python3.8/site-packages/sklearn/base.py:324: UserWarning: Trying to unpickle estimator SVC from version 0.24.1 when using version 1.0.1. This might lead to breaking code or invalid results. Use at your own risk. For more info please refer to:\n",
      "https://scikit-learn.org/stable/modules/model_persistence.html#security-maintainability-limitations\n",
      "  warnings.warn(\n"
     ]
    },
    {
     "name": "stdout",
     "output_type": "stream",
     "text": [
      "{'head': SVC(probability=True), 'spine': SVC(probability=True), 'leg': SVC(probability=True), 'arm': SVC(probability=True), 'foot': SVC(probability=True), 'hand': SVC(probability=True)}\n",
      "CPU times: user 951 ms, sys: 473 ms, total: 1.42 s\n",
      "Wall time: 2.35 s\n"
     ]
    }
   ],
   "source": [
    "%%time\n",
    "\n",
    "import os, random, cv2, Classify\n",
    "import numpy as np\n",
    "\n",
    "# 1. Load models\n",
    "classifiers = Classify.load_svm(resources_path + '/SVM')\n",
    "print(classifiers)"
   ]
  },
  {
   "cell_type": "code",
   "execution_count": 8,
   "id": "d8b8a4df",
   "metadata": {},
   "outputs": [
    {
     "name": "stdout",
     "output_type": "stream",
     "text": [
      "CPU times: user 12.7 s, sys: 196 ms, total: 12.9 s\n",
      "Wall time: 17.4 s\n"
     ]
    },
    {
     "data": {
      "text/html": [
       "<div>\n",
       "<style scoped>\n",
       "    .dataframe tbody tr th:only-of-type {\n",
       "        vertical-align: middle;\n",
       "    }\n",
       "\n",
       "    .dataframe tbody tr th {\n",
       "        vertical-align: top;\n",
       "    }\n",
       "\n",
       "    .dataframe thead th {\n",
       "        text-align: right;\n",
       "    }\n",
       "</style>\n",
       "<table border=\"1\" class=\"dataframe\">\n",
       "  <thead>\n",
       "    <tr style=\"text-align: right;\">\n",
       "      <th></th>\n",
       "      <th>x</th>\n",
       "      <th>y</th>\n",
       "      <th>window_size</th>\n",
       "      <th>window</th>\n",
       "      <th>hog</th>\n",
       "      <th>head</th>\n",
       "      <th>spine</th>\n",
       "      <th>leg</th>\n",
       "      <th>arm</th>\n",
       "      <th>foot</th>\n",
       "      <th>hand</th>\n",
       "      <th>highest</th>\n",
       "      <th>highest_pred</th>\n",
       "    </tr>\n",
       "  </thead>\n",
       "  <tbody>\n",
       "    <tr>\n",
       "      <th>116</th>\n",
       "      <td>178</td>\n",
       "      <td>409</td>\n",
       "      <td>(192, 192)</td>\n",
       "      <td>[[77, 75, 73, 69, 66, 63, 62, 59, 58, 57, 57, ...</td>\n",
       "      <td>[[0.061106061419745276, 0.03184590867349936, 0...</td>\n",
       "      <td>0.992502</td>\n",
       "      <td>0.015657</td>\n",
       "      <td>0.014556</td>\n",
       "      <td>0.008140</td>\n",
       "      <td>0.005803</td>\n",
       "      <td>0.000009</td>\n",
       "      <td>head</td>\n",
       "      <td>0.992502</td>\n",
       "    </tr>\n",
       "    <tr>\n",
       "      <th>116</th>\n",
       "      <td>304</td>\n",
       "      <td>454</td>\n",
       "      <td>(128, 128)</td>\n",
       "      <td>[[44, 44, 45, 46, 46, 46, 47, 45, 44, 43, 42, ...</td>\n",
       "      <td>[[0.14585371762088017, 0.06322553615382834, 0....</td>\n",
       "      <td>0.000008</td>\n",
       "      <td>0.991127</td>\n",
       "      <td>0.006896</td>\n",
       "      <td>0.004556</td>\n",
       "      <td>0.003958</td>\n",
       "      <td>0.000001</td>\n",
       "      <td>spine</td>\n",
       "      <td>0.991127</td>\n",
       "    </tr>\n",
       "  </tbody>\n",
       "</table>\n",
       "</div>"
      ],
      "text/plain": [
       "       x    y window_size                                             window  \\\n",
       "116  178  409  (192, 192)  [[77, 75, 73, 69, 66, 63, 62, 59, 58, 57, 57, ...   \n",
       "116  304  454  (128, 128)  [[44, 44, 45, 46, 46, 46, 47, 45, 44, 43, 42, ...   \n",
       "\n",
       "                                                   hog      head     spine  \\\n",
       "116  [[0.061106061419745276, 0.03184590867349936, 0...  0.992502  0.015657   \n",
       "116  [[0.14585371762088017, 0.06322553615382834, 0....  0.000008  0.991127   \n",
       "\n",
       "          leg       arm      foot      hand highest  highest_pred  \n",
       "116  0.014556  0.008140  0.005803  0.000009    head      0.992502  \n",
       "116  0.006896  0.004556  0.003958  0.000001   spine      0.991127  "
      ]
     },
     "execution_count": 8,
     "metadata": {},
     "output_type": "execute_result"
    }
   ],
   "source": [
    "%%time\n",
    "results = []\n",
    "for image in images_to_check[:3]:\n",
    "    img = cv2.imread(resources_path+image_folder+'/'+image, 0)\n",
    "    wanted_classifiers = ['head','spine']  # The keys you want\n",
    "    wanted_classifiers = dict((k, classifiers[k]) for k in wanted_classifiers if k in classifiers)\n",
    "    feat_image, result, pred = Classify.analyse_image(img, classifiers,  crop_thresh=0.2, blur_size=10, bright_strength=1, sharp_strength=1,\n",
    "                                   square_step=True, windows=[(64, 64), (96, 96), (128, 128), (192, 192)], window_stride=64, pred_threshold = 0.99)\n",
    "    results.append(result)\n",
    "\n",
    "results = pd.concat(results)\n",
    "results"
   ]
  },
  {
   "cell_type": "code",
   "execution_count": 18,
   "id": "28733565",
   "metadata": {},
   "outputs": [],
   "source": []
  },
  {
   "cell_type": "code",
   "execution_count": null,
   "id": "973ce708",
   "metadata": {},
   "outputs": [],
   "source": []
  }
 ],
 "metadata": {
  "kernelspec": {
   "display_name": "project",
   "language": "python",
   "name": "project"
  },
  "language_info": {
   "codemirror_mode": {
    "name": "ipython",
    "version": 3
   },
   "file_extension": ".py",
   "mimetype": "text/x-python",
   "name": "python",
   "nbconvert_exporter": "python",
   "pygments_lexer": "ipython3",
   "version": "3.8.12"
  }
 },
 "nbformat": 4,
 "nbformat_minor": 5
}
