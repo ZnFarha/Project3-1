{
 "cells": [
  {
   "cell_type": "code",
   "execution_count": 3,
   "id": "12ea6a87",
   "metadata": {},
   "outputs": [],
   "source": [
    "import os\n",
    "import numpy as np\n",
    "import pandas as pd\n",
    "import cv2 as cv\n",
    "from pathlib import Path\n",
    "import warnings\n",
    "from skimage.feature import hog\n",
    "import tqdm\n",
    "\n",
    "warnings.filterwarnings(\"ignore\")\n",
    "pd.options.display.max_columns = None"
   ]
  },
  {
   "cell_type": "code",
   "execution_count": 4,
   "id": "b2e48749",
   "metadata": {},
   "outputs": [],
   "source": [
    "image_folder = 'C:/Users/as/Desktop/Boris-1'\n",
    "file = 'C:/Users/as/Desktop/CSV_labeled_1/labels_Boris_Batch1.csv'"
   ]
  },
  {
   "cell_type": "code",
   "execution_count": 5,
   "id": "feecd651",
   "metadata": {},
   "outputs": [
    {
     "data": {
      "text/html": [
       "<div>\n",
       "<style scoped>\n",
       "    .dataframe tbody tr th:only-of-type {\n",
       "        vertical-align: middle;\n",
       "    }\n",
       "\n",
       "    .dataframe tbody tr th {\n",
       "        vertical-align: top;\n",
       "    }\n",
       "\n",
       "    .dataframe thead th {\n",
       "        text-align: right;\n",
       "    }\n",
       "</style>\n",
       "<table border=\"1\" class=\"dataframe\">\n",
       "  <thead>\n",
       "    <tr style=\"text-align: right;\">\n",
       "      <th></th>\n",
       "      <th>part</th>\n",
       "      <th>UL</th>\n",
       "      <th>UR</th>\n",
       "      <th>DL</th>\n",
       "      <th>DR</th>\n",
       "      <th>Image_id</th>\n",
       "      <th>Size x</th>\n",
       "      <th>size y</th>\n",
       "    </tr>\n",
       "  </thead>\n",
       "  <tbody>\n",
       "    <tr>\n",
       "      <th>0</th>\n",
       "      <td>spine</td>\n",
       "      <td>363</td>\n",
       "      <td>316</td>\n",
       "      <td>97</td>\n",
       "      <td>34</td>\n",
       "      <td>19150_2021-01-24_10.31_102817812.png</td>\n",
       "      <td>800</td>\n",
       "      <td>480</td>\n",
       "    </tr>\n",
       "    <tr>\n",
       "      <th>1</th>\n",
       "      <td>head</td>\n",
       "      <td>288</td>\n",
       "      <td>107</td>\n",
       "      <td>165</td>\n",
       "      <td>128</td>\n",
       "      <td>19150_2021-01-24_19.28_192749337.png</td>\n",
       "      <td>800</td>\n",
       "      <td>480</td>\n",
       "    </tr>\n",
       "    <tr>\n",
       "      <th>2</th>\n",
       "      <td>head</td>\n",
       "      <td>306</td>\n",
       "      <td>181</td>\n",
       "      <td>153</td>\n",
       "      <td>143</td>\n",
       "      <td>19155_2021-01-07_13.57_135737889.png</td>\n",
       "      <td>800</td>\n",
       "      <td>480</td>\n",
       "    </tr>\n",
       "    <tr>\n",
       "      <th>3</th>\n",
       "      <td>head</td>\n",
       "      <td>451</td>\n",
       "      <td>122</td>\n",
       "      <td>102</td>\n",
       "      <td>140</td>\n",
       "      <td>19155_2021-01-07_22.06_2205425.png</td>\n",
       "      <td>800</td>\n",
       "      <td>480</td>\n",
       "    </tr>\n",
       "    <tr>\n",
       "      <th>4</th>\n",
       "      <td>spine</td>\n",
       "      <td>365</td>\n",
       "      <td>247</td>\n",
       "      <td>144</td>\n",
       "      <td>42</td>\n",
       "      <td>19155_2021-01-07_22.06_2205425.png</td>\n",
       "      <td>800</td>\n",
       "      <td>480</td>\n",
       "    </tr>\n",
       "  </tbody>\n",
       "</table>\n",
       "</div>"
      ],
      "text/plain": [
       "   part    UL   UR   DL   DR                              Image_id  Size x  \\\n",
       "0  spine  363  316   97   34  19150_2021-01-24_10.31_102817812.png     800   \n",
       "1   head  288  107  165  128  19150_2021-01-24_19.28_192749337.png     800   \n",
       "2   head  306  181  153  143  19155_2021-01-07_13.57_135737889.png     800   \n",
       "3   head  451  122  102  140    19155_2021-01-07_22.06_2205425.png     800   \n",
       "4  spine  365  247  144   42    19155_2021-01-07_22.06_2205425.png     800   \n",
       "\n",
       "   size y  \n",
       "0     480  \n",
       "1     480  \n",
       "2     480  \n",
       "3     480  \n",
       "4     480  "
      ]
     },
     "execution_count": 5,
     "metadata": {},
     "output_type": "execute_result"
    }
   ],
   "source": [
    "file = pd.read_csv('C:/Users/as/Desktop/CSV_labeled_1/labels_Boris_Batch1.csv')\n",
    "headerList = ['part ', 'UL', 'UR','DL','DR', 'Image_id','Size x', 'size y' ]\n",
    "file.to_csv('imgs2.csv', header = headerList,index=False)\n",
    "images = pd.read_csv(\"imgs2.csv\")\n",
    "images.head()\n"
   ]
  },
  {
   "cell_type": "code",
   "execution_count": 6,
   "id": "08d5a23e",
   "metadata": {},
   "outputs": [
    {
     "name": "stdout",
     "output_type": "stream",
     "text": [
      "images: (235, 8)\n"
     ]
    }
   ],
   "source": [
    "print('images:', str(images.shape))"
   ]
  },
  {
   "cell_type": "code",
   "execution_count": 7,
   "id": "a0fb0cd0",
   "metadata": {},
   "outputs": [
    {
     "data": {
      "text/plain": [
       "part          4\n",
       "UL          161\n",
       "UR          124\n",
       "DL          136\n",
       "DR          123\n",
       "Image_id    164\n",
       "Size x        1\n",
       "size y        1\n",
       "dtype: int64"
      ]
     },
     "execution_count": 7,
     "metadata": {},
     "output_type": "execute_result"
    }
   ],
   "source": [
    "images.nunique()"
   ]
  },
  {
   "cell_type": "code",
   "execution_count": 8,
   "id": "9d3d18f9",
   "metadata": {},
   "outputs": [
    {
     "ename": "TypeError",
     "evalue": "'module' object is not callable",
     "output_type": "error",
     "traceback": [
      "\u001b[1;31m---------------------------------------------------------------------------\u001b[0m",
      "\u001b[1;31mTypeError\u001b[0m                                 Traceback (most recent call last)",
      "\u001b[1;32m~\\AppData\\Local\\Temp/ipykernel_9092/3672829331.py\u001b[0m in \u001b[0;36m<module>\u001b[1;34m\u001b[0m\n\u001b[0;32m      4\u001b[0m     \u001b[1;32mreturn\u001b[0m \u001b[0mimg\u001b[0m\u001b[1;33m,\u001b[0m\u001b[0mids\u001b[0m\u001b[1;33m\u001b[0m\u001b[1;33m\u001b[0m\u001b[0m\n\u001b[0;32m      5\u001b[0m \u001b[1;33m\u001b[0m\u001b[0m\n\u001b[1;32m----> 6\u001b[1;33m \u001b[1;32mfor\u001b[0m \u001b[0mids\u001b[0m \u001b[1;32min\u001b[0m \u001b[0mtqdm\u001b[0m\u001b[1;33m(\u001b[0m\u001b[0mlist\u001b[0m\u001b[1;33m(\u001b[0m\u001b[0mimages\u001b[0m\u001b[1;33m)\u001b[0m\u001b[1;33m)\u001b[0m\u001b[1;33m:\u001b[0m\u001b[1;33m\u001b[0m\u001b[1;33m\u001b[0m\u001b[0m\n\u001b[0m\u001b[0;32m      7\u001b[0m     \u001b[0mimg\u001b[0m\u001b[1;33m.\u001b[0m\u001b[0mids\u001b[0m \u001b[1;33m=\u001b[0m \u001b[0mload_image\u001b[0m\u001b[1;33m(\u001b[0m\u001b[0mstr\u001b[0m\u001b[1;33m(\u001b[0m\u001b[0mids\u001b[0m\u001b[1;33m)\u001b[0m\u001b[1;33m)\u001b[0m\u001b[1;33m\u001b[0m\u001b[1;33m\u001b[0m\u001b[0m\n\u001b[0;32m      8\u001b[0m     \u001b[1;32mif\u001b[0m \u001b[0mimg\u001b[0m \u001b[1;32mis\u001b[0m \u001b[1;32mnot\u001b[0m \u001b[1;32mNone\u001b[0m\u001b[1;33m:\u001b[0m\u001b[1;33m\u001b[0m\u001b[1;33m\u001b[0m\u001b[0m\n",
      "\u001b[1;31mTypeError\u001b[0m: 'module' object is not callable"
     ]
    }
   ],
   "source": [
    "all_images=[]\n",
    "def load_image(ids, path =image_folder):\n",
    "    img=cv.imread(image_folder +ids+'.png', cv.IMREAD_GRAYSCALE)\n",
    "    return img,ids\n",
    "\n",
    "for ids in tqdm(list(images)):\n",
    "    img.ids = load_image(str(ids))\n",
    "    if img is not None:\n",
    "        all_images.append([img,int(ids)])\n",
    "        \n",
    "len(all_images)"
   ]
  },
  {
   "cell_type": "code",
   "execution_count": null,
   "id": "6856c632",
   "metadata": {},
   "outputs": [],
   "source": []
  }
 ],
 "metadata": {
  "kernelspec": {
   "display_name": "Python 3 (ipykernel)",
   "language": "python",
   "name": "python3"
  },
  "language_info": {
   "codemirror_mode": {
    "name": "ipython",
    "version": 3
   },
   "file_extension": ".py",
   "mimetype": "text/x-python",
   "name": "python",
   "nbconvert_exporter": "python",
   "pygments_lexer": "ipython3",
   "version": "3.8.10"
  }
 },
 "nbformat": 4,
 "nbformat_minor": 5
}
